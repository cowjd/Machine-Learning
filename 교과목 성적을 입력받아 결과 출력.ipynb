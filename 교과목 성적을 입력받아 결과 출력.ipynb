{
 "cells": [
  {
   "cell_type": "markdown",
   "id": "616ae1cf",
   "metadata": {},
   "source": [
    "# 실습1"
   ]
  },
  {
   "cell_type": "code",
   "execution_count": 2,
   "id": "e4240814",
   "metadata": {
    "scrolled": true
   },
   "outputs": [
    {
     "name": "stdout",
     "output_type": "stream",
     "text": [
      "이름:채정\n",
      "나이:22\n",
      "계속 입력하시겠습니까(y/n)n\n",
      "\n",
      "\n",
      "-------------------------\n",
      "이름:채정 나이:22\n"
     ]
    }
   ],
   "source": [
    "data = []\n",
    "def inputdata():\n",
    "    while True:\n",
    "        name = input(\"이름:\")\n",
    "        age = int(input(\"나이:\"))\n",
    "        data.append({\"name\":name, \"age\":age})\n",
    "        yn = input(\"계속 입력하시겠습니까(y/n)\")\n",
    "        print('\\n')\n",
    "        if yn == 'n':\n",
    "            break\n",
    "\n",
    "def outputData():\n",
    "    for dt in data:\n",
    "        print(\"이름:%(name)s 나이:%(age)d\"% dt)\n",
    "        \n",
    "def main():\n",
    "    inputdata()\n",
    "    print('-' * 25)\n",
    "    outputData()\n",
    "    \n",
    "if __name__ == '__main__':\n",
    "    main()"
   ]
  },
  {
   "cell_type": "markdown",
   "id": "dea48569",
   "metadata": {},
   "source": [
    "# 실습2"
   ]
  },
  {
   "cell_type": "code",
   "execution_count": 10,
   "id": "0871034d",
   "metadata": {},
   "outputs": [
    {
     "name": "stdout",
     "output_type": "stream",
     "text": [
      "1.입력\n",
      "2.출력\n",
      "3.종료\n",
      "메뉴를 선택하세요:1\n",
      "이름:name\n",
      "나이:5\n",
      "계속 입력하시겠습니까(y/n)y\n",
      "\n",
      "\n",
      "이름:2\n",
      "나이:5\n",
      "계속 입력하시겠습니까(y/n)n\n",
      "\n",
      "\n",
      "1.입력\n",
      "2.출력\n",
      "3.종료\n",
      "메뉴를 선택하세요:2\n",
      "==============================\n",
      "        이름        나이\n",
      "==============================\n",
      "이름:name 나이:5\n",
      "이름:2 나이:5\n",
      "1.입력\n",
      "2.출력\n",
      "3.종료\n",
      "메뉴를 선택하세요:3\n"
     ]
    }
   ],
   "source": [
    "data = []\n",
    "def inputdata():\n",
    "    while True:\n",
    "        name = input(\"이름:\")\n",
    "        age = int(input(\"나이:\"))\n",
    "        data.append({\"name\":name, \"age\":age})\n",
    "        yn = input(\"계속 입력하시겠습니까(y/n)\")\n",
    "        print('\\n')\n",
    "        if yn == 'n':\n",
    "            break\n",
    "\n",
    "def outputData():\n",
    "    print(\"=\"*30)\n",
    "    print(\"%10s%10s\" % (\"이름\", \"나이\"))\n",
    "    print(\"=\"*30)\n",
    "    for dt in data:\n",
    "        print(\"이름:%(name)s 나이:%(age)d\"% dt)\n",
    "\n",
    "def showMenu():\n",
    "    print(\"1.입력\", \"2.출력\", \"3.종료\", sep=\"\\n\")\n",
    "        \n",
    "def main():\n",
    "    menuDic = {\"1\":inputdata, \"2\":outputData, \"3\":exit}\n",
    "    while True:\n",
    "        showMenu()\n",
    "        sMenu = input(\"메뉴를 선택하세요:\")\n",
    "        if sMenu==\"3\":\n",
    "            break\n",
    "        menuDic[sMenu]()\n",
    "    \n",
    "if __name__ == '__main__':\n",
    "    main()"
   ]
  },
  {
   "cell_type": "markdown",
   "id": "f7c4440c",
   "metadata": {},
   "source": [
    "# 실습3"
   ]
  },
  {
   "cell_type": "code",
   "execution_count": 16,
   "id": "cb975eac",
   "metadata": {},
   "outputs": [
    {
     "name": "stdout",
     "output_type": "stream",
     "text": [
      "1.입력\n",
      "2.출력\n",
      "3.검색\n",
      "4.종료\n",
      "메뉴를 선택하세요:1\n",
      "이름:dd\n",
      "나이:5\n",
      "계속 입력하시겠습니까(y/n)n\n",
      "\n",
      "\n",
      "1.입력\n",
      "2.출력\n",
      "3.검색\n",
      "4.종료\n",
      "메뉴를 선택하세요:3\n",
      "검색할이름입력:dd\n",
      "==============================\n",
      "        이름        나이\n",
      "==============================\n",
      "        dd         5\n",
      "\n",
      "\n",
      "1.입력\n",
      "2.출력\n",
      "3.검색\n",
      "4.종료\n",
      "메뉴를 선택하세요:4\n",
      "bye bye..\n"
     ]
    }
   ],
   "source": [
    "data = []\n",
    "def inputdata():\n",
    "    while True:\n",
    "        name = input(\"이름:\")\n",
    "        age = int(input(\"나이:\"))\n",
    "        data.append({\"name\":name, \"age\":age})\n",
    "        yn = input(\"계속 입력하시겠습니까(y/n)\")\n",
    "        print('\\n')\n",
    "        if yn == 'n':\n",
    "            break\n",
    "\n",
    "def outputData():\n",
    "    print(\"=\"*30)\n",
    "    print(\"%10s%10s\" % (\"이름\", \"나이\"))\n",
    "    print(\"=\"*30)\n",
    "    for dt in data:\n",
    "        print(\"이름:%(name)s 나이:%(age)d\"% dt)\n",
    "\n",
    "\n",
    "        \n",
    "def searchData():\n",
    "    sname = input(\"검색할이름입력:\")\n",
    "    print(\"=\"*30)\n",
    "    print(\"%10s%10s\" % (\"이름\", \"나이\"))\n",
    "    print(\"=\"*30)    \n",
    "    for dt in data:\n",
    "        if sname == dt['name']:\n",
    "                print(\"%(name)10s%(age)10d\"%dt)\n",
    "    print(\"\\n\")\n",
    "    \n",
    "def showMenu():\n",
    "    print(\"1.입력\", \"2.출력\", \"3.검색\", \"4.종료\", sep=\"\\n\")\n",
    "    \n",
    "def main():\n",
    "    menuDic = {\"1\":inputdata, \"2\":outputData, \"3\":searchData, \"4\":exit}\n",
    "    while True:\n",
    "        showMenu()\n",
    "        sMenu = input(\"메뉴를 선택하세요:\")\n",
    "        \n",
    "        if sMenu==\"4\":\n",
    "            break\n",
    "        menuDic[sMenu]()\n",
    "        \n",
    "    \n",
    "if __name__ == '__main__':\n",
    "    main()\n",
    "    print(\"bye bye..\")"
   ]
  },
  {
   "cell_type": "code",
   "execution_count": null,
   "id": "5264503b",
   "metadata": {},
   "outputs": [],
   "source": []
  }
 ],
 "metadata": {
  "kernelspec": {
   "display_name": "Python 3",
   "language": "python",
   "name": "python3"
  },
  "language_info": {
   "codemirror_mode": {
    "name": "ipython",
    "version": 3
   },
   "file_extension": ".py",
   "mimetype": "text/x-python",
   "name": "python",
   "nbconvert_exporter": "python",
   "pygments_lexer": "ipython3",
   "version": "3.8.8"
  }
 },
 "nbformat": 4,
 "nbformat_minor": 5
}
