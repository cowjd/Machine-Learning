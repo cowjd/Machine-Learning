{
 "cells": [
  {
   "cell_type": "markdown",
   "id": "774220e8",
   "metadata": {},
   "source": [
    "# 가위바위보"
   ]
  },
  {
   "cell_type": "markdown",
   "id": "ad46b13c",
   "metadata": {},
   "source": [
    "### 함수기반"
   ]
  },
  {
   "cell_type": "code",
   "execution_count": 1,
   "id": "b6a293ad",
   "metadata": {},
   "outputs": [
    {
     "name": "stdout",
     "output_type": "stream",
     "text": [
      "가위(1), 바위(2), 보(3):2\n",
      "컴퓨터는: 1\n",
      "따라서,  내가 이김\n"
     ]
    }
   ],
   "source": [
    "import random\n",
    "\n",
    "def inputData():\n",
    "    me = int(input(\"가위(1), 바위(2), 보(3):\"))\n",
    "    com = random.randint(1,3)\n",
    "    return me, com\n",
    "\n",
    "def calcResult(me, com):\n",
    "    rDic = {0:\"비김\", 1:\"내가 이김\", 2:\"컴퓨터 이김\"}\n",
    "    result = (3+(me-com))%3\n",
    "    print(\"컴퓨터는:\", com)\n",
    "    print(\"따라서, \", rDic[result])\n",
    "    \n",
    "if __name__ == '__main__':\n",
    "    me, com = inputData()\n",
    "    calcResult(me, com)"
   ]
  },
  {
   "cell_type": "markdown",
   "id": "ff3374b7",
   "metadata": {},
   "source": [
    "### 클래스 기반"
   ]
  },
  {
   "cell_type": "code",
   "execution_count": 6,
   "id": "cd2cdc90",
   "metadata": {},
   "outputs": [
    {
     "name": "stdout",
     "output_type": "stream",
     "text": [
      "가위(1), 바위(2), 보(3):2\n",
      "컴퓨터는: 1\n",
      "따라서,  내가 이김\n"
     ]
    }
   ],
   "source": [
    "import random\n",
    "\n",
    "class KBBGame:\n",
    "    def __init__(self):\n",
    "        self.me = 0\n",
    "        self.com = 0\n",
    "        \n",
    "    def inputData(self):\n",
    "        self.me = int(input(\"가위(1), 바위(2), 보(3):\"))\n",
    "        self.com = random.randint(1,3)\n",
    "        \n",
    "    def calcResult(self):\n",
    "        rDic = {0:\"비김\", 1:\"내가 이김\", 2:\"컴퓨터 이김\"}\n",
    "        result = (3+(self.me-self.com))%3\n",
    "        print(\"컴퓨터는:\", self.com)\n",
    "        print(\"따라서, \", rDic[result])\n",
    "\n",
    "if __name__ == '__main__':\n",
    "    kGame = KBBGame()\n",
    "    kGame.inputData()\n",
    "    kGame.calcResult()"
   ]
  },
  {
   "cell_type": "code",
   "execution_count": null,
   "id": "aa729a99",
   "metadata": {},
   "outputs": [],
   "source": []
  }
 ],
 "metadata": {
  "kernelspec": {
   "display_name": "Python 3",
   "language": "python",
   "name": "python3"
  },
  "language_info": {
   "codemirror_mode": {
    "name": "ipython",
    "version": 3
   },
   "file_extension": ".py",
   "mimetype": "text/x-python",
   "name": "python",
   "nbconvert_exporter": "python",
   "pygments_lexer": "ipython3",
   "version": "3.8.8"
  }
 },
 "nbformat": 4,
 "nbformat_minor": 5
}
